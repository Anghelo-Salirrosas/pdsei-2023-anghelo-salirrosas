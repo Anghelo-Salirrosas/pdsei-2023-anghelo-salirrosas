{
 "cells": [
  {
   "cell_type": "markdown",
   "metadata": {
    "id": "9MiFh0uEjI_5"
   },
   "source": [
    "<span style=\"display: inline-block; margin-right: 20px; text-align: center; margin: 0 auto;\">\n",
    "  <img src=\"https://www.unitru.edu.pe/Recursos/img-unt/logo-unt1.png\" alt=\"Descripción de la imagen 1\" width=\"600\" />\n",
    "</span>\n",
    "\n",
    "<span style=\"display: inline-block; text-align: center;\">\n",
    "  <img src=\"https://yt3.googleusercontent.com/ytc/AOPolaShdJp99F2glLd7P8f-9o-_ul7FmH0CwEllNqSy=s900-c-k-c0x00ffffff-no-rj\" alt=\"Descripción de la imagen 2\" width=\"300\" />\n",
    "</span>\n",
    "\n",
    "**ESCUELA DE INGENIERÍA MECATRÓNICA**\n",
    "\n",
    "## `PROCESAMIENTO DIGITAL DE SEÑALES E IMÁGENES`\n",
    "\n",
    "### `Docente: Ms. Ing. Emerson Maximo Asto Rodriguez`\n",
    "\n",
    "## `Práctica 06 - Procesamiento en el dominio del espacio`\n",
    "\n",
    "### `INTEGRANTES:`\n",
    "* **Piminchumo Leyva Giusseppe Amaru**\n",
    "* **Polo Gonzalez Diego Jesus**\n",
    "* **Salirrosas Castro Anghelo Joseph**"
   ]
  },
  {
   "cell_type": "markdown",
   "metadata": {
    "id": "KwaNjCXvf3YB"
   },
   "source": [
    "**1.   Implemente el siguiente algoritmo en un entorno local de OpenCV.**"
   ]
  },
  {
   "cell_type": "code",
   "execution_count": null,
   "metadata": {
    "id": "qBLNe5chfhOx"
   },
   "outputs": [],
   "source": [
    "import cv2\n",
    "slider_max = 100\n",
    "title_window = 'Brillo'\n",
    "def on_trackbar(val):\n",
    "  dst = src1 + val/255\n",
    "  cv2.imshow(title_window, dst)\n",
    "src1 = cv2.imread(\"joker-heath-ledger-1570108200.jpg\")/255\n",
    "try:\n",
    "  cv2.namedWindow(title_window)\n",
    "  trackbar_name = f\"Brilo {slider_max}\"\n",
    "  cv2.createTrackbar(trackbar_name, title_window, 0, slider_max, on_trackbar)\n",
    "  on_trackbar(0)\n",
    "  while True:\n",
    "       key = cv2.waitKey(1)\n",
    "       if key != -1:\n",
    "         break\n",
    "  cv2.destroyAllWindows()\n",
    "except:\n",
    "  cv2.destroyAllWindows()"
   ]
  },
  {
   "cell_type": "markdown",
   "metadata": {
    "id": "OwuzCrmVf2Qy"
   },
   "source": [
    "**2.   Implemente un algoritmo que le permita tener un slider para controlar el nivel de\n",
    "suavizado de una imagen. El slider controlara el tamaño del filtro espacial que se\n",
    "aplicará.**"
   ]
  },
  {
   "cell_type": "code",
   "execution_count": null,
   "metadata": {
    "id": "7o8tTNIfhIgB"
   },
   "outputs": [],
   "source": [
    "import cv2\n",
    "import numpy as np\n",
    "from scipy import signal\n",
    "\n",
    "slider_max = 30\n",
    "title_window = 'Suavizado'\n",
    "\n",
    "src1 = cv2.imread(\"joker-heath-ledger-1570108200.jpg\",0)/255\n",
    "def on_trackbar(val):\n",
    "    kernel = np.ones((val+2,val+2))/(val+2)**2\n",
    "    out = signal.convolve2d(src1, kernel, mode= \"same\")\n",
    "    cv2.imshow(title_window,out)\n",
    "\n",
    "cv2.namedWindow(title_window)\n",
    "trackbar_name = f\"Nivel Suavizado {slider_max}\"\n",
    "cv2.createTrackbar(trackbar_name, title_window, 0, slider_max, on_trackbar)\n",
    "on_trackbar(0)\n",
    "\n",
    "while True:\n",
    "    key = cv2.waitKey(1)\n",
    "    if key != -1:\n",
    "        break\n",
    "cv2.destroyAllWindows()\n"
   ]
  },
  {
   "cell_type": "markdown",
   "metadata": {
    "id": "bjQbBbOWhJsR"
   },
   "source": [
    "**3.   Implemente un algoritmo que le permita modificar la ganancia de un filtro de alto\n",
    "aumento. Si el slider es 0 debe verse el laplaciano, si es 1, la imagen debe quedar\n",
    "enfatizada. Si es mayor que 1 adicionalmente al enfatizado, la imagen debe tener\n",
    "mas brillo.**"
   ]
  },
  {
   "cell_type": "code",
   "execution_count": null,
   "metadata": {
    "id": "xNdAfgKbhLF5"
   },
   "outputs": [],
   "source": [
    "import cv2\n",
    "import numpy as np\n",
    "from scipy import signal\n",
    "\n",
    "slider_max = 2\n",
    "title_window = 'Problema3'\n",
    "\n",
    "src1 = cv2.imread(\"joker-heath-ledger-1570108200.jpg\",0)/255\n",
    "def on_trackbar(val):\n",
    "    if val==0:\n",
    "        A=0\n",
    "        kernel = np.array([[-1,-1,-1], [-1,A+8,-1], [-1,-1,-1]])\n",
    "        out = signal.convolve2d(src1, kernel, mode= \"same\")\n",
    "    if val==1:\n",
    "        blur = cv2.blur(src1, (7,7))\n",
    "        mask = src1 - blur\n",
    "        unsharp_image = mask + src1\n",
    "        out=unsharp_image\n",
    "    if val==2:\n",
    "        blur = cv2.blur(src1, (7,7))\n",
    "        mask = src1 - blur\n",
    "        unsharp_image = mask + src1\n",
    "        out=unsharp_image\n",
    "\n",
    "        out = out + 50/255\n",
    "    cv2.imshow(title_window,out)\n",
    "\n",
    "cv2.namedWindow(title_window)\n",
    "trackbar_name = f\"Selecciona {slider_max}\"\n",
    "cv2.createTrackbar(trackbar_name, title_window, 0, slider_max, on_trackbar)\n",
    "on_trackbar(0)\n",
    "\n",
    "while True:\n",
    "    key = cv2.waitKey(1)\n",
    "    if key != -1:\n",
    "        break\n",
    "cv2.destroyAllWindows()"
   ]
  }
 ],
 "metadata": {
  "colab": {
   "authorship_tag": "ABX9TyO3N9NSVK9QkjplfPBgXY6R",
   "provenance": []
  },
  "kernelspec": {
   "display_name": "Python 3",
   "language": "python",
   "name": "python3"
  },
  "language_info": {
   "codemirror_mode": {
    "name": "ipython",
    "version": 3
   },
   "file_extension": ".py",
   "mimetype": "text/x-python",
   "name": "python",
   "nbconvert_exporter": "python",
   "pygments_lexer": "ipython3",
   "version": "3.6.6"
  }
 },
 "nbformat": 4,
 "nbformat_minor": 1
}
