{
  "cells": [
    {
      "cell_type": "markdown",
      "metadata": {
        "id": "kVTFh7yThzva"
      },
      "source": [
        "![](https://e.rpp-noticias.io/normal/2015/12/22/285428_50186.jpg)"
      ]
    },
    {
      "cell_type": "markdown",
      "metadata": {
        "id": "3DAiJVUVfK6d"
      },
      "source": [
        "**ESCUELA DE INGENIERÍA MECATRÓNICA**\n",
        "\n",
        "## `PROCESAMIENTO DIGITAL DE SEÑALES E IMÁGENES`\n",
        "\n",
        "### `Docente: Ms. Ing. Emerson Maximo Asto Rodriguez`\n",
        "\n",
        "```\n",
        "Práctica 01 - Repaso de Python / Numpy / Matplotlib\n",
        "```"
      ]
    },
    {
      "cell_type": "markdown",
      "metadata": {
        "id": "C_cNCXuCXYAW"
      },
      "source": [
        "# **1. Python**\n"
      ]
    },
    {
      "cell_type": "markdown",
      "metadata": {
        "id": "wMhNRvUqX9Vg"
      },
      "source": [
        "1. **Entrada - salida**"
      ]
    },
    {
      "cell_type": "markdown",
      "metadata": {
        "id": "ZnD2aw_fo7oy"
      },
      "source": [
        "### sdfsdf\n",
        "* sdfsd\n",
        "> sdfsdf\n",
        "```\n",
        "sdfsdfsdf\n",
        "```"
      ]
    },
    {
      "cell_type": "code",
      "execution_count": null,
      "metadata": {
        "ExecuteTime": {
          "end_time": "2022-10-01T02:17:50.862534Z",
          "start_time": "2022-10-01T02:17:50.841536Z"
        },
        "id": "L6qscU4Ejpti",
        "outputId": "a68329d9-3258-4c2c-eb2b-188277fe6642"
      },
      "outputs": [
        {
          "name": "stdout",
          "output_type": "stream",
          "text": [
            "hola\n"
          ]
        }
      ],
      "source": [
        "print('hola')"
      ]
    },
    {
      "cell_type": "markdown",
      "metadata": {
        "id": "A83KHoRUYRE4"
      },
      "source": [
        "2. **Formateo de cadenas**"
      ]
    },
    {
      "cell_type": "code",
      "execution_count": null,
      "metadata": {
        "ExecuteTime": {
          "end_time": "2022-10-01T02:21:19.371232Z",
          "start_time": "2022-10-01T02:21:19.357237Z"
        },
        "id": "9ZkOfgCJYXDF",
        "outputId": "749e1971-9653-47c3-8b1e-162be46c7375"
      },
      "outputs": [
        {
          "name": "stdout",
          "output_type": "stream",
          "text": [
            "sdfsdf -> 10 :.\n",
            "sdfsdf -> 10.\n",
            "sdfsd 10 sdfsdf\n"
          ]
        }
      ],
      "source": [
        "numero = 10\n",
        "nombre = 'sdfsdf'\n",
        "print(nombre,'->', numero, ':.')\n",
        "print(f'{nombre} -> {numero}.')\n",
        "print(\"sdfsd {} sdfsdf\".format(numero))"
      ]
    },
    {
      "cell_type": "markdown",
      "metadata": {
        "id": "FOJD_XoZZNBw"
      },
      "source": [
        "3. **Control de flujo**\n",
        "\n",
        "> `if / while / for`"
      ]
    },
    {
      "cell_type": "code",
      "execution_count": null,
      "metadata": {
        "ExecuteTime": {
          "end_time": "2022-10-01T02:26:36.889051Z",
          "start_time": "2022-10-01T02:26:36.872050Z"
        },
        "id": "UNJ7_lGAZdVs",
        "outputId": "e9c9453b-0c2b-4fae-fc4e-e0a3cfa4cf44"
      },
      "outputs": [
        {
          "name": "stdout",
          "output_type": "stream",
          "text": [
            "sdfsd\n"
          ]
        }
      ],
      "source": [
        "a = 5\n",
        "b = 10\n",
        "if b == a:\n",
        "    print(a)\n",
        "elif b>a:\n",
        "    print('sdfsd')\n",
        "else:\n",
        "    print(b)"
      ]
    },
    {
      "cell_type": "code",
      "execution_count": null,
      "metadata": {
        "ExecuteTime": {
          "end_time": "2022-10-01T02:30:10.195036Z",
          "start_time": "2022-10-01T02:30:10.172026Z"
        },
        "id": "4Fx0CYdPo7o3",
        "outputId": "74f3bf10-0197-472f-bbde-03ec199d5be2"
      },
      "outputs": [
        {
          "name": "stdout",
          "output_type": "stream",
          "text": [
            "0\n",
            "1\n",
            "2\n",
            "3\n",
            "4\n",
            "5\n",
            "6\n",
            "7\n",
            "8\n",
            "9\n",
            "10\n"
          ]
        }
      ],
      "source": [
        "contador = 0\n",
        "while contador <= 10:\n",
        "    print(contador)\n",
        "    contador+=1"
      ]
    },
    {
      "cell_type": "code",
      "execution_count": null,
      "metadata": {
        "ExecuteTime": {
          "end_time": "2022-10-01T02:35:01.442470Z",
          "start_time": "2022-10-01T02:35:01.416475Z"
        },
        "id": "m01zeX6Do7o4",
        "outputId": "1c84b2db-d7a9-4d82-f180-3fa251f1ff71"
      },
      "outputs": [
        {
          "name": "stdout",
          "output_type": "stream",
          "text": [
            "sdf\n",
            "343\n",
            "['sdf', True]\n",
            "False\n"
          ]
        }
      ],
      "source": [
        "lista = ['sdf', 343, ['sdf', True], False]\n",
        "\n",
        "for elemento in lista:\n",
        "    print(elemento)"
      ]
    },
    {
      "cell_type": "code",
      "execution_count": null,
      "metadata": {
        "ExecuteTime": {
          "end_time": "2022-10-01T02:36:52.650665Z",
          "start_time": "2022-10-01T02:36:52.638666Z"
        },
        "id": "xMj6mrxmo7o4",
        "outputId": "3ce97477-8f0e-48bf-84de-b4277b066857"
      },
      "outputs": [
        {
          "name": "stdout",
          "output_type": "stream",
          "text": [
            "5\n",
            "8\n",
            "11\n",
            "14\n",
            "17\n"
          ]
        }
      ],
      "source": [
        "for valor in range(5, 19, 3):\n",
        "    print(valor)"
      ]
    },
    {
      "cell_type": "code",
      "execution_count": null,
      "metadata": {
        "ExecuteTime": {
          "end_time": "2022-10-01T02:39:40.803392Z",
          "start_time": "2022-10-01T02:39:40.791381Z"
        },
        "id": "IBaI4QSlo7o5",
        "outputId": "2033073b-b6c4-413a-8d25-6fcfa163d4e9"
      },
      "outputs": [
        {
          "name": "stdout",
          "output_type": "stream",
          "text": [
            "tag1: imagen1\n",
            "tag2: imagen2\n",
            "tag3: imagen3\n"
          ]
        }
      ],
      "source": [
        "etiquetas = ['tag1', 'tag2', 'tag3']\n",
        "imagenes = ['imagen1', 'imagen2', 'imagen3']\n",
        "\n",
        "for etiqueta, imagen in zip(etiquetas, imagenes):\n",
        "    print(f'{etiqueta}: {imagen}')"
      ]
    },
    {
      "cell_type": "code",
      "execution_count": null,
      "metadata": {
        "ExecuteTime": {
          "end_time": "2022-10-01T02:41:14.059900Z",
          "start_time": "2022-10-01T02:41:14.046891Z"
        },
        "id": "QzfTc7sdo7o5",
        "outputId": "031d5ad2-d5a7-47d0-fdc0-bd4c241f4a25"
      },
      "outputs": [
        {
          "name": "stdout",
          "output_type": "stream",
          "text": [
            "0-sdf\n",
            "1-343\n",
            "2-['sdf', True]\n",
            "3-False\n"
          ]
        }
      ],
      "source": [
        "lista = ['sdf', 343, ['sdf', True], False]\n",
        "\n",
        "for i, elemento in enumerate(lista):\n",
        "    print(f'{i}-{elemento}')"
      ]
    },
    {
      "cell_type": "markdown",
      "metadata": {
        "id": "TN2aN_HAZu6f"
      },
      "source": [
        "4. **Estructuras de datos**\n",
        "\n",
        ">`Listas / Tuplas / Conjuntos / Diccionarios`\n",
        "\n"
      ]
    },
    {
      "cell_type": "code",
      "execution_count": null,
      "metadata": {
        "ExecuteTime": {
          "end_time": "2022-10-01T02:43:15.060072Z",
          "start_time": "2022-10-01T02:43:15.045069Z"
        },
        "id": "UG0f0kLqdA2U"
      },
      "outputs": [],
      "source": [
        "tupla = (4, 'sdfsd', ['sdf','sdf'])\n",
        "lista = ['sdf', 343, ['sdf', True], False]"
      ]
    },
    {
      "cell_type": "code",
      "execution_count": null,
      "metadata": {
        "ExecuteTime": {
          "end_time": "2022-10-01T02:43:16.808063Z",
          "start_time": "2022-10-01T02:43:16.767070Z"
        },
        "id": "ZPxDi-C2o7o6",
        "outputId": "b53c6316-a5f4-44ce-e73a-afe3581a881e"
      },
      "outputs": [
        {
          "ename": "TypeError",
          "evalue": "'tuple' object does not support item assignment",
          "output_type": "error",
          "traceback": [
            "\u001b[1;31m---------------------------------------------------------------------------\u001b[0m",
            "\u001b[1;31mTypeError\u001b[0m                                 Traceback (most recent call last)",
            "\u001b[1;32m<ipython-input-23-cd366cb89f29>\u001b[0m in \u001b[0;36m<module>\u001b[1;34m\u001b[0m\n\u001b[1;32m----> 1\u001b[1;33m \u001b[0mtupla\u001b[0m\u001b[1;33m[\u001b[0m\u001b[1;36m0\u001b[0m\u001b[1;33m]\u001b[0m \u001b[1;33m=\u001b[0m \u001b[1;34m'ttt'\u001b[0m\u001b[1;33m\u001b[0m\u001b[0m\n\u001b[0m\u001b[0;32m      2\u001b[0m \u001b[0mtupla\u001b[0m\u001b[1;33m\u001b[0m\u001b[0m\n",
            "\u001b[1;31mTypeError\u001b[0m: 'tuple' object does not support item assignment"
          ]
        }
      ],
      "source": [
        "tupla[0] = 'ttt'\n",
        "tupla"
      ]
    },
    {
      "cell_type": "code",
      "execution_count": null,
      "metadata": {
        "ExecuteTime": {
          "end_time": "2022-10-01T02:46:26.872068Z",
          "start_time": "2022-10-01T02:46:26.857070Z"
        },
        "id": "wsopae85o7o7"
      },
      "outputs": [],
      "source": [
        "conjunto = {'sdf', 5, True , 5}"
      ]
    },
    {
      "cell_type": "code",
      "execution_count": null,
      "metadata": {
        "ExecuteTime": {
          "end_time": "2022-10-01T02:48:39.011229Z",
          "start_time": "2022-10-01T02:48:38.991223Z"
        },
        "id": "rBZi7r6Ho7o7",
        "outputId": "69940225-b273-4368-d3c7-e7841e25eeed"
      },
      "outputs": [
        {
          "data": {
            "text/plain": [
              "3"
            ]
          },
          "execution_count": 44,
          "metadata": {},
          "output_type": "execute_result"
        }
      ],
      "source": [
        "diccionario = {'nombre': 'rgb', 'capas': 3}\n",
        "diccionario['capas']"
      ]
    },
    {
      "cell_type": "code",
      "execution_count": null,
      "metadata": {
        "ExecuteTime": {
          "end_time": "2022-10-01T02:49:47.737941Z",
          "start_time": "2022-10-01T02:49:47.715790Z"
        },
        "id": "6GmQb40Fo7o8",
        "outputId": "e54f281c-4d03-472a-c8d8-7a7e8d22d9ef"
      },
      "outputs": [
        {
          "name": "stdout",
          "output_type": "stream",
          "text": [
            "nombre\n",
            "capas\n"
          ]
        }
      ],
      "source": [
        "for key in diccionario.keys():\n",
        "    print(key)"
      ]
    },
    {
      "cell_type": "code",
      "execution_count": null,
      "metadata": {
        "ExecuteTime": {
          "end_time": "2022-10-01T02:50:20.814366Z",
          "start_time": "2022-10-01T02:50:20.795354Z"
        },
        "id": "n9r8713Eo7o9",
        "outputId": "f8439b64-90f7-44a2-eef0-8537d0484f44"
      },
      "outputs": [
        {
          "name": "stdout",
          "output_type": "stream",
          "text": [
            "rgb\n",
            "3\n"
          ]
        }
      ],
      "source": [
        "for value in diccionario.values():\n",
        "    print(value)"
      ]
    },
    {
      "cell_type": "code",
      "execution_count": null,
      "metadata": {
        "ExecuteTime": {
          "end_time": "2022-10-01T02:51:01.184896Z",
          "start_time": "2022-10-01T02:51:01.175890Z"
        },
        "id": "Z8lIGNYso7o9",
        "outputId": "310c050d-6d44-4e63-84c7-800757f3cecc"
      },
      "outputs": [
        {
          "name": "stdout",
          "output_type": "stream",
          "text": [
            "('nombre', 'rgb')\n",
            "('capas', 3)\n"
          ]
        }
      ],
      "source": [
        "for value in diccionario.items():\n",
        "    print(value)"
      ]
    },
    {
      "cell_type": "markdown",
      "metadata": {
        "id": "xY6x0mgKdBgW"
      },
      "source": [
        "5. **Funciones**"
      ]
    },
    {
      "cell_type": "code",
      "execution_count": null,
      "metadata": {
        "ExecuteTime": {
          "end_time": "2022-10-01T02:53:39.181745Z",
          "start_time": "2022-10-01T02:53:39.160736Z"
        },
        "id": "5VIb8Ld0dGCS",
        "outputId": "a81d58a1-549b-4ef8-a27c-eff9b95ab8c3"
      },
      "outputs": [
        {
          "data": {
            "text/plain": [
              "14"
            ]
          },
          "execution_count": 55,
          "metadata": {},
          "output_type": "execute_result"
        }
      ],
      "source": [
        "def suma(num1, num2):\n",
        "    return num1 + num2\n",
        "\n",
        "suma(5,9)"
      ]
    },
    {
      "cell_type": "code",
      "execution_count": null,
      "metadata": {
        "ExecuteTime": {
          "end_time": "2022-10-01T02:54:57.167583Z",
          "start_time": "2022-10-01T02:54:57.152589Z"
        },
        "id": "rGF9y615o7o-",
        "outputId": "1da25b10-ae24-4ccd-9208-605427650735"
      },
      "outputs": [
        {
          "name": "stdout",
          "output_type": "stream",
          "text": [
            "55\n"
          ]
        }
      ],
      "source": [
        "def suma(*args):\n",
        "    cum = 0\n",
        "    for num in args:\n",
        "        cum += num\n",
        "    print(cum)\n",
        "\n",
        "suma(5,5,5,6,7,8,9,10)"
      ]
    },
    {
      "cell_type": "code",
      "execution_count": null,
      "metadata": {
        "ExecuteTime": {
          "end_time": "2022-10-01T02:56:08.340757Z",
          "start_time": "2022-10-01T02:56:08.318756Z"
        },
        "id": "GcpmACKIo7o-",
        "outputId": "e7543c62-ed1c-428b-ee7b-2c38718ba1bf"
      },
      "outputs": [
        {
          "name": "stdout",
          "output_type": "stream",
          "text": [
            "{'num1': 45, 'num2': 788}\n"
          ]
        }
      ],
      "source": [
        "def suma(**kwargs):\n",
        "    print(kwargs)\n",
        "\n",
        "suma(num1=45, num2=788)"
      ]
    },
    {
      "cell_type": "markdown",
      "metadata": {
        "id": "EcEQvRPjoZSx"
      },
      "source": [
        "# **2. Numpy**\n",
        "1. **Importando la libreria**"
      ]
    },
    {
      "cell_type": "code",
      "execution_count": null,
      "metadata": {
        "id": "UDyCEdtxnxRj"
      },
      "outputs": [],
      "source": [
        "import numpy as np"
      ]
    },
    {
      "cell_type": "markdown",
      "metadata": {
        "id": "bdhhTFLNovL1"
      },
      "source": [
        "2. **Creación de un array y una matriz**"
      ]
    },
    {
      "cell_type": "code",
      "execution_count": null,
      "metadata": {
        "colab": {
          "base_uri": "https://localhost:8080/"
        },
        "id": "WT8NKqL8ox6M",
        "outputId": "7ffb8e74-07f0-461d-f52c-2492c0ab91dc"
      },
      "outputs": [
        {
          "output_type": "stream",
          "name": "stdout",
          "text": [
            "[1 2 3 4 5]\n"
          ]
        }
      ],
      "source": [
        "arr1 = np.array([1,2,3,4,5])\n",
        "print(arr1)"
      ]
    },
    {
      "cell_type": "code",
      "execution_count": null,
      "metadata": {
        "colab": {
          "base_uri": "https://localhost:8080/"
        },
        "id": "FKXTIKfa0Uyx",
        "outputId": "b94739d3-cdc9-4d1b-aeda-ac9fabc214ab"
      },
      "outputs": [
        {
          "output_type": "stream",
          "name": "stdout",
          "text": [
            "[[1. 2. 3.]\n",
            " [4. 5. 6.]\n",
            " [7. 8. 9.]]\n"
          ]
        }
      ],
      "source": [
        "mat1 = np.array([[1,2,3],[4,5,6],[7,8,9]], dtype=np.int8)\n",
        "print(mat1)"
      ]
    },
    {
      "cell_type": "markdown",
      "metadata": {
        "id": "DlTYu9iyo3Pi"
      },
      "source": [
        "3. **Tipos de datos en un array**"
      ]
    },
    {
      "cell_type": "code",
      "execution_count": null,
      "metadata": {
        "colab": {
          "base_uri": "https://localhost:8080/"
        },
        "id": "Tc0fijq6pC-t",
        "outputId": "29f371bf-8807-4ed2-af9f-4a473b378d1f"
      },
      "outputs": [
        {
          "name": "stdout",
          "output_type": "stream",
          "text": [
            "int64\n"
          ]
        }
      ],
      "source": [
        "print(arr1.dtype)"
      ]
    },
    {
      "cell_type": "code",
      "execution_count": null,
      "metadata": {
        "colab": {
          "base_uri": "https://localhost:8080/"
        },
        "id": "uGWkXf7Bz2eo",
        "outputId": "3d32ae10-b265-48e1-b154-751df74747f8"
      },
      "outputs": [
        {
          "name": "stdout",
          "output_type": "stream",
          "text": [
            "float64\n"
          ]
        }
      ],
      "source": [
        "arr2 = np.array([1,2,3,4,5], dtype=np.float64)\n",
        "print(arr2.dtype)"
      ]
    },
    {
      "cell_type": "markdown",
      "metadata": {
        "id": "FGuGNdJ-pKgH"
      },
      "source": [
        "4. **Forma y tamaño de un array o matriz**"
      ]
    },
    {
      "cell_type": "code",
      "execution_count": null,
      "metadata": {
        "colab": {
          "base_uri": "https://localhost:8080/"
        },
        "id": "te2Z3hKBpMxF",
        "outputId": "f20ae396-a05d-44b5-aa3e-1260a191ed10"
      },
      "outputs": [
        {
          "output_type": "execute_result",
          "data": {
            "text/plain": [
              "(5,)"
            ]
          },
          "metadata": {},
          "execution_count": 10
        }
      ],
      "source": [
        "arr1.shape"
      ]
    },
    {
      "cell_type": "code",
      "execution_count": null,
      "metadata": {
        "colab": {
          "base_uri": "https://localhost:8080/"
        },
        "id": "OV-EqW751dAs",
        "outputId": "eb73ff1e-47b7-4d97-a140-5e53bd8a7c23"
      },
      "outputs": [
        {
          "data": {
            "text/plain": [
              "5"
            ]
          },
          "execution_count": 7,
          "metadata": {
            "tags": []
          },
          "output_type": "execute_result"
        }
      ],
      "source": [
        "arr1.size"
      ]
    },
    {
      "cell_type": "code",
      "execution_count": null,
      "metadata": {
        "colab": {
          "base_uri": "https://localhost:8080/"
        },
        "id": "zIvpIR-z01Wy",
        "outputId": "73ef5fb1-94fd-495b-f403-a840b8eb41e1"
      },
      "outputs": [
        {
          "output_type": "execute_result",
          "data": {
            "text/plain": [
              "(3, 3)"
            ]
          },
          "metadata": {},
          "execution_count": 6
        }
      ],
      "source": [
        "mat1.shape"
      ]
    },
    {
      "cell_type": "code",
      "execution_count": null,
      "metadata": {
        "colab": {
          "base_uri": "https://localhost:8080/"
        },
        "id": "8nEUkXVR1jSo",
        "outputId": "640c6076-dbfc-4434-81b9-b5da162db366"
      },
      "outputs": [
        {
          "output_type": "execute_result",
          "data": {
            "text/plain": [
              "9"
            ]
          },
          "metadata": {},
          "execution_count": 7
        }
      ],
      "source": [
        "mat1.size"
      ]
    },
    {
      "cell_type": "markdown",
      "metadata": {
        "id": "RueG2s6zpOQ-"
      },
      "source": [
        "5. **Creación de matrices especiales**"
      ]
    },
    {
      "cell_type": "code",
      "execution_count": null,
      "metadata": {
        "colab": {
          "base_uri": "https://localhost:8080/"
        },
        "id": "qJe7EpfvpV1i",
        "outputId": "d30eede5-c486-4c41-e9aa-9f1397863913"
      },
      "outputs": [
        {
          "output_type": "stream",
          "name": "stdout",
          "text": [
            "[[[[1. 1. 1. 1.]\n",
            "   [1. 1. 1. 1.]]\n",
            "\n",
            "  [[1. 1. 1. 1.]\n",
            "   [1. 1. 1. 1.]]\n",
            "\n",
            "  [[1. 1. 1. 1.]\n",
            "   [1. 1. 1. 1.]]\n",
            "\n",
            "  [[1. 1. 1. 1.]\n",
            "   [1. 1. 1. 1.]]\n",
            "\n",
            "  [[1. 1. 1. 1.]\n",
            "   [1. 1. 1. 1.]]]\n",
            "\n",
            "\n",
            " [[[1. 1. 1. 1.]\n",
            "   [1. 1. 1. 1.]]\n",
            "\n",
            "  [[1. 1. 1. 1.]\n",
            "   [1. 1. 1. 1.]]\n",
            "\n",
            "  [[1. 1. 1. 1.]\n",
            "   [1. 1. 1. 1.]]\n",
            "\n",
            "  [[1. 1. 1. 1.]\n",
            "   [1. 1. 1. 1.]]\n",
            "\n",
            "  [[1. 1. 1. 1.]\n",
            "   [1. 1. 1. 1.]]]\n",
            "\n",
            "\n",
            " [[[1. 1. 1. 1.]\n",
            "   [1. 1. 1. 1.]]\n",
            "\n",
            "  [[1. 1. 1. 1.]\n",
            "   [1. 1. 1. 1.]]\n",
            "\n",
            "  [[1. 1. 1. 1.]\n",
            "   [1. 1. 1. 1.]]\n",
            "\n",
            "  [[1. 1. 1. 1.]\n",
            "   [1. 1. 1. 1.]]\n",
            "\n",
            "  [[1. 1. 1. 1.]\n",
            "   [1. 1. 1. 1.]]]\n",
            "\n",
            "\n",
            " [[[1. 1. 1. 1.]\n",
            "   [1. 1. 1. 1.]]\n",
            "\n",
            "  [[1. 1. 1. 1.]\n",
            "   [1. 1. 1. 1.]]\n",
            "\n",
            "  [[1. 1. 1. 1.]\n",
            "   [1. 1. 1. 1.]]\n",
            "\n",
            "  [[1. 1. 1. 1.]\n",
            "   [1. 1. 1. 1.]]\n",
            "\n",
            "  [[1. 1. 1. 1.]\n",
            "   [1. 1. 1. 1.]]]]\n",
            "(4, 5, 2, 4)\n"
          ]
        }
      ],
      "source": [
        "#ones\n",
        "mat_ones = np.ones((4,5,2,4))\n",
        "print(mat_ones)\n",
        "print(mat_ones.shape)"
      ]
    },
    {
      "cell_type": "code",
      "source": [
        "test_zeros=np.zeros_like(mat_ones)\n",
        "print(test_zeros)"
      ],
      "metadata": {
        "colab": {
          "base_uri": "https://localhost:8080/"
        },
        "id": "byKNxrvrrqQw",
        "outputId": "9ee4e9bd-1dfc-4eca-f359-97e70dfa99f9"
      },
      "execution_count": null,
      "outputs": [
        {
          "output_type": "stream",
          "name": "stdout",
          "text": [
            "[[[[0. 0. 0. 0.]\n",
            "   [0. 0. 0. 0.]]\n",
            "\n",
            "  [[0. 0. 0. 0.]\n",
            "   [0. 0. 0. 0.]]\n",
            "\n",
            "  [[0. 0. 0. 0.]\n",
            "   [0. 0. 0. 0.]]\n",
            "\n",
            "  [[0. 0. 0. 0.]\n",
            "   [0. 0. 0. 0.]]\n",
            "\n",
            "  [[0. 0. 0. 0.]\n",
            "   [0. 0. 0. 0.]]]\n",
            "\n",
            "\n",
            " [[[0. 0. 0. 0.]\n",
            "   [0. 0. 0. 0.]]\n",
            "\n",
            "  [[0. 0. 0. 0.]\n",
            "   [0. 0. 0. 0.]]\n",
            "\n",
            "  [[0. 0. 0. 0.]\n",
            "   [0. 0. 0. 0.]]\n",
            "\n",
            "  [[0. 0. 0. 0.]\n",
            "   [0. 0. 0. 0.]]\n",
            "\n",
            "  [[0. 0. 0. 0.]\n",
            "   [0. 0. 0. 0.]]]\n",
            "\n",
            "\n",
            " [[[0. 0. 0. 0.]\n",
            "   [0. 0. 0. 0.]]\n",
            "\n",
            "  [[0. 0. 0. 0.]\n",
            "   [0. 0. 0. 0.]]\n",
            "\n",
            "  [[0. 0. 0. 0.]\n",
            "   [0. 0. 0. 0.]]\n",
            "\n",
            "  [[0. 0. 0. 0.]\n",
            "   [0. 0. 0. 0.]]\n",
            "\n",
            "  [[0. 0. 0. 0.]\n",
            "   [0. 0. 0. 0.]]]\n",
            "\n",
            "\n",
            " [[[0. 0. 0. 0.]\n",
            "   [0. 0. 0. 0.]]\n",
            "\n",
            "  [[0. 0. 0. 0.]\n",
            "   [0. 0. 0. 0.]]\n",
            "\n",
            "  [[0. 0. 0. 0.]\n",
            "   [0. 0. 0. 0.]]\n",
            "\n",
            "  [[0. 0. 0. 0.]\n",
            "   [0. 0. 0. 0.]]\n",
            "\n",
            "  [[0. 0. 0. 0.]\n",
            "   [0. 0. 0. 0.]]]]\n"
          ]
        }
      ]
    },
    {
      "cell_type": "code",
      "execution_count": null,
      "metadata": {
        "colab": {
          "base_uri": "https://localhost:8080/"
        },
        "id": "cW0k-QiZ2qlF",
        "outputId": "9597d016-3585-4c65-d625-17453303b2e5"
      },
      "outputs": [
        {
          "name": "stdout",
          "output_type": "stream",
          "text": [
            "[[0. 0. 0. 0. 0.]\n",
            " [0. 0. 0. 0. 0.]\n",
            " [0. 0. 0. 0. 0.]\n",
            " [0. 0. 0. 0. 0.]\n",
            " [0. 0. 0. 0. 0.]]\n"
          ]
        }
      ],
      "source": [
        "#zeros\n",
        "mat_zeros = np.zeros((5,5))\n",
        "print(mat_zeros)"
      ]
    },
    {
      "cell_type": "code",
      "source": [],
      "metadata": {
        "id": "QHoe8Ug2rpMP"
      },
      "execution_count": null,
      "outputs": []
    },
    {
      "cell_type": "code",
      "execution_count": null,
      "metadata": {
        "colab": {
          "base_uri": "https://localhost:8080/"
        },
        "id": "9lZue1mp37aE",
        "outputId": "1d8fb708-cba4-4c72-da0d-b938780c4e85"
      },
      "outputs": [
        {
          "name": "stdout",
          "output_type": "stream",
          "text": [
            "[[0.55430031 0.66553061 0.28485691 0.96504054 0.28535301 0.48679383\n",
            "  0.97312906 0.64101423 0.04108358 0.18649606]]\n"
          ]
        }
      ],
      "source": [
        "#Aleatorios entre 0 y 1\n",
        "mat_rand = np.random.rand(1,10)\n",
        "print(mat_rand)"
      ]
    },
    {
      "cell_type": "code",
      "execution_count": null,
      "metadata": {
        "colab": {
          "base_uri": "https://localhost:8080/"
        },
        "id": "gCjLBbCE4IHq",
        "outputId": "62a1d879-0255-4f4b-8a98-25bccbea3080"
      },
      "outputs": [
        {
          "name": "stdout",
          "output_type": "stream",
          "text": [
            "[[60 32  0 18 83]\n",
            " [96 96 99 99 27]\n",
            " [17 64 33 87 72]\n",
            " [11 72 93 66 19]]\n"
          ]
        }
      ],
      "source": [
        "#Aleatorios enteros entre un rango de valores\n",
        "mat_rand_enteros = np.random.randint(0, 100, (4,5)) #toma hasta 100-1\n",
        "print(mat_rand_enteros)"
      ]
    },
    {
      "cell_type": "code",
      "execution_count": null,
      "metadata": {
        "colab": {
          "base_uri": "https://localhost:8080/"
        },
        "id": "i-QW1xHZ4b1T",
        "outputId": "3800d17a-b339-472c-cdfb-31787af17755"
      },
      "outputs": [
        {
          "name": "stdout",
          "output_type": "stream",
          "text": [
            "[[1. 0. 0. 0. 0.]\n",
            " [0. 1. 0. 0. 0.]\n",
            " [0. 0. 1. 0. 0.]\n",
            " [0. 0. 0. 1. 0.]\n",
            " [0. 0. 0. 0. 1.]]\n"
          ]
        }
      ],
      "source": [
        "#Matriz identidad\n",
        "mat_ident = np.eye(5,5)\n",
        "print(mat_ident)"
      ]
    },
    {
      "cell_type": "markdown",
      "metadata": {
        "id": "TMuMLdi_pglm"
      },
      "source": [
        "6. **Copiar un array**"
      ]
    },
    {
      "cell_type": "code",
      "execution_count": null,
      "metadata": {
        "colab": {
          "base_uri": "https://localhost:8080/"
        },
        "id": "AF5xYODqpieW",
        "outputId": "59b6bdae-19f5-41c9-91af-d7a45be06471"
      },
      "outputs": [
        {
          "name": "stdout",
          "output_type": "stream",
          "text": [
            "[10  2  3  4  5]\n",
            "[10  2  3  4  5]\n"
          ]
        }
      ],
      "source": [
        "a = np.array([1,2,3,4,5])\n",
        "b = a #Asignado a > b\n",
        "\n",
        "b[0] = 10 #Modificado array b en la posicion 0\n",
        "\n",
        "print(a)\n",
        "print(b)"
      ]
    },
    {
      "cell_type": "markdown",
      "metadata": {
        "id": "S2egOkel5Zjt"
      },
      "source": [
        "Al modificar el array b, tambien se modificó el array a. Esto se debe a que ambos son el mismo vector con un nombre(identificador) diferente. Para evitar esto, se debe copiar el array al momento de ser asignado. como se muestra a continuación:\n"
      ]
    },
    {
      "cell_type": "code",
      "execution_count": null,
      "metadata": {
        "colab": {
          "base_uri": "https://localhost:8080/"
        },
        "id": "ooiU1Yow567s",
        "outputId": "314d1ed1-b9b4-4e2e-a186-c69353f07ed3"
      },
      "outputs": [
        {
          "name": "stdout",
          "output_type": "stream",
          "text": [
            "[1 2 3 4 5]\n",
            "[10  2  3  4  5]\n"
          ]
        }
      ],
      "source": [
        "a = np.array([1,2,3,4,5])\n",
        "b = a.copy() #Asignado una copia de a > b\n",
        "#Le estamos asignado un mismo espacio de memoria con dos nombres diferentes si pongo b=a, para eso de copy()\n",
        "\n",
        "b[0] = 10 #Modificado array b en la posicion 0\n",
        "\n",
        "print(a)\n",
        "print(b)"
      ]
    },
    {
      "cell_type": "markdown",
      "metadata": {
        "id": "8-WXwH3G501k"
      },
      "source": [
        "Como se aprecia, a y b ahora son vectores independientes."
      ]
    },
    {
      "cell_type": "markdown",
      "metadata": {
        "id": "ZdCBCohLp8Kp"
      },
      "source": [
        "7. **Creando arrays con sequencias/series numéricas**"
      ]
    },
    {
      "cell_type": "code",
      "execution_count": null,
      "metadata": {
        "colab": {
          "base_uri": "https://localhost:8080/"
        },
        "id": "DTHo-ztwp7kD",
        "outputId": "5a2afceb-400a-4f1a-eb20-d9ae76488a13"
      },
      "outputs": [
        {
          "name": "stdout",
          "output_type": "stream",
          "text": [
            "[ 0  1  2  3  4  5  6  7  8  9 10 11 12 13 14 15 16 17 18 19]\n"
          ]
        }
      ],
      "source": [
        "secuencia = np.arange(20)\n",
        "print(secuencia)"
      ]
    },
    {
      "cell_type": "code",
      "execution_count": null,
      "metadata": {
        "colab": {
          "base_uri": "https://localhost:8080/"
        },
        "id": "_JnzKKTF7L7n",
        "outputId": "d0abccd1-77ec-47f2-d750-6a9f39c4da48"
      },
      "outputs": [
        {
          "name": "stdout",
          "output_type": "stream",
          "text": [
            "[ 0  2  4  6  8 10 12 14 16 18 20 22 24 26 28 30 32 34 36 38 40 42 44 46\n",
            " 48]\n"
          ]
        }
      ],
      "source": [
        "secuencia = np.arange(0,50,2)\n",
        "print(secuencia)"
      ]
    },
    {
      "cell_type": "code",
      "execution_count": null,
      "metadata": {
        "colab": {
          "base_uri": "https://localhost:8080/"
        },
        "id": "WVczZU3H7amO",
        "outputId": "760c9e52-31cb-4b57-b2ad-4bf96f56009a"
      },
      "outputs": [
        {
          "name": "stdout",
          "output_type": "stream",
          "text": [
            "[40 38 36 34 32 30 28 26 24 22 20 18 16 14 12 10  8  6  4  2]\n"
          ]
        }
      ],
      "source": [
        "secuencia = np.arange(40,0,-2)\n",
        "print(secuencia)"
      ]
    },
    {
      "cell_type": "markdown",
      "metadata": {
        "id": "xXFlv6CBqE6M"
      },
      "source": [
        "8. **Modificando la forma de un arreglo**"
      ]
    },
    {
      "cell_type": "code",
      "execution_count": null,
      "metadata": {
        "colab": {
          "base_uri": "https://localhost:8080/"
        },
        "id": "Hf_0kNXnqHfY",
        "outputId": "0accf46b-d397-413f-fddd-457985fc9335"
      },
      "outputs": [
        {
          "name": "stdout",
          "output_type": "stream",
          "text": [
            "[[48 32 11 45 33]\n",
            " [30  4  6 37  6]\n",
            " [22 45  5  2 31]\n",
            " [ 7 47  4 14 35]]\n"
          ]
        }
      ],
      "source": [
        "np.random.seed(50)\n",
        "ar1 = np.random.randint(0,50, (4,5))\n",
        "print(ar1)"
      ]
    },
    {
      "cell_type": "code",
      "execution_count": null,
      "metadata": {
        "colab": {
          "base_uri": "https://localhost:8080/"
        },
        "id": "UtyGhBoIqrOx",
        "outputId": "78948da0-c1b8-439b-bbab-cdaea99a4916"
      },
      "outputs": [
        {
          "name": "stdout",
          "output_type": "stream",
          "text": [
            "[[48 32 11 45 33 30  4  6 37  6]\n",
            " [22 45  5  2 31  7 47  4 14 35]] \n",
            "\n",
            "[[48 32 11 45 33]\n",
            " [30  4  6 37  6]\n",
            " [22 45  5  2 31]\n",
            " [ 7 47  4 14 35]]\n"
          ]
        }
      ],
      "source": [
        "#Reshape genera un nuevo arrego con la forma especificada\n",
        "print(ar1.reshape(2,10),\"\\n\")#Para transposiciones de imagenes\n",
        "#tensorflow tenemos q adapatarnos a las entradas o lineamientos con reshape\n",
        "#cada vez que usamos un framework, suele pasar o debemos hacer esto\n",
        "#reshape te entrega un nuevo vector\n",
        "print(ar1)"
      ]
    },
    {
      "cell_type": "code",
      "execution_count": null,
      "metadata": {
        "colab": {
          "base_uri": "https://localhost:8080/"
        },
        "id": "vFK7GppK8qBo",
        "outputId": "e3646786-5e66-40f5-faa5-2981b1acfb76"
      },
      "outputs": [
        {
          "name": "stdout",
          "output_type": "stream",
          "text": [
            "[[48 32 11 45 33 30  4  6 37  6]\n",
            " [22 45  5  2 31  7 47  4 14 35]]\n"
          ]
        }
      ],
      "source": [
        "#Resize redimensiona el arrego original con la forma especificada\n",
        "ar1.resize(2,10)\n",
        "print(ar1)\n",
        "#resize lo hace en el mismo array"
      ]
    },
    {
      "cell_type": "markdown",
      "metadata": {
        "id": "lnh5ItQHqYHU"
      },
      "source": [
        "9. **Cortando Arrays**"
      ]
    },
    {
      "cell_type": "code",
      "execution_count": null,
      "metadata": {
        "colab": {
          "base_uri": "https://localhost:8080/"
        },
        "id": "Sqe9Fh9tqc1C",
        "outputId": "a0dd73c0-9bc1-46f7-a45b-d5b321f9e6a0"
      },
      "outputs": [
        {
          "name": "stdout",
          "output_type": "stream",
          "text": [
            "[[48 32 11 45 33 30  4  6]\n",
            " [37  6 22 45  5  2 31  7]\n",
            " [47  4 14 35 28 27 26 26]\n",
            " [ 6 20 43 31 49 21 42 41]\n",
            " [ 0  6 19  2 15 30 41 35]\n",
            " [26  2 12 32  3  2 10 48]\n",
            " [46  0 29 29 30  0 11 30]\n",
            " [26  7 28 24 27 46 13  7]]\n"
          ]
        }
      ],
      "source": [
        "np.random.seed(50)\n",
        "ar1 = np.random.randint(0,50, (8,8))\n",
        "print(ar1)"
      ]
    },
    {
      "cell_type": "code",
      "execution_count": null,
      "metadata": {
        "colab": {
          "base_uri": "https://localhost:8080/"
        },
        "id": "G3vdL0Uw9SPV",
        "outputId": "af5679cb-799b-4105-9c52-d546349063ce"
      },
      "outputs": [
        {
          "data": {
            "text/plain": [
              "array([[48, 32, 11, 45, 33, 30,  4,  6],\n",
              "       [37,  6, 22, 45,  5,  2, 31,  7],\n",
              "       [47,  4, 14, 35, 28, 27, 26, 26],\n",
              "       [ 6, 20, 43, 31, 49, 21, 42, 41]])"
            ]
          },
          "execution_count": 36,
          "metadata": {
            "tags": []
          },
          "output_type": "execute_result"
        }
      ],
      "source": [
        "#Las 4 primeras filas\n",
        "ar1[0:4,:]"
      ]
    },
    {
      "cell_type": "code",
      "execution_count": null,
      "metadata": {
        "colab": {
          "base_uri": "https://localhost:8080/"
        },
        "id": "NNvOQ_8W9jNJ",
        "outputId": "3450b658-8297-4216-ac07-ad489af1960e"
      },
      "outputs": [
        {
          "data": {
            "text/plain": [
              "array([[33, 30,  4,  6],\n",
              "       [ 5,  2, 31,  7],\n",
              "       [28, 27, 26, 26],\n",
              "       [49, 21, 42, 41],\n",
              "       [15, 30, 41, 35],\n",
              "       [ 3,  2, 10, 48],\n",
              "       [30,  0, 11, 30],\n",
              "       [27, 46, 13,  7]])"
            ]
          },
          "execution_count": 25,
          "metadata": {
            "tags": []
          },
          "output_type": "execute_result"
        }
      ],
      "source": [
        "#Las 4 ultimas columnas\n",
        "ar1[:,4:]"
      ]
    },
    {
      "cell_type": "code",
      "execution_count": null,
      "metadata": {
        "colab": {
          "base_uri": "https://localhost:8080/"
        },
        "id": "5ySFTBOE923R",
        "outputId": "70c854b0-d8e7-4eb0-ea81-0c740b00d6bd"
      },
      "outputs": [
        {
          "data": {
            "text/plain": [
              "array([[ 2, 15],\n",
              "       [32,  3]])"
            ]
          },
          "execution_count": 37,
          "metadata": {
            "tags": []
          },
          "output_type": "execute_result"
        }
      ],
      "source": [
        "#Una sección interna de la matriz\n",
        "ar1[4:6, 3:5]"
      ]
    },
    {
      "cell_type": "code",
      "execution_count": null,
      "metadata": {
        "colab": {
          "base_uri": "https://localhost:8080/"
        },
        "id": "K_A7j-2GBkMA",
        "outputId": "2d17a597-ba5a-4b63-ae94-b91f46de0a4e"
      },
      "outputs": [
        {
          "data": {
            "text/plain": [
              "array([[ 7, 13, 46, 27, 24, 28,  7, 26],\n",
              "       [30, 11,  0, 30, 29, 29,  0, 46],\n",
              "       [48, 10,  2,  3, 32, 12,  2, 26],\n",
              "       [35, 41, 30, 15,  2, 19,  6,  0],\n",
              "       [41, 42, 21, 49, 31, 43, 20,  6],\n",
              "       [26, 26, 27, 28, 35, 14,  4, 47],\n",
              "       [ 7, 31,  2,  5, 45, 22,  6, 37],\n",
              "       [ 6,  4, 30, 33, 45, 11, 32, 48]])"
            ]
          },
          "execution_count": 39,
          "metadata": {
            "tags": []
          },
          "output_type": "execute_result"
        }
      ],
      "source": [
        "#Inversion de filas y columnas\n",
        "ar1[::-1, ::-1]"
      ]
    },
    {
      "cell_type": "code",
      "source": [],
      "metadata": {
        "colab": {
          "base_uri": "https://localhost:8080/",
          "height": 192
        },
        "id": "tCoKHuKautXr",
        "outputId": "e0ba5999-db3c-4575-e5ff-3e7808109f26"
      },
      "execution_count": null,
      "outputs": [
        {
          "output_type": "error",
          "ename": "NameError",
          "evalue": "ignored",
          "traceback": [
            "\u001b[0;31m---------------------------------------------------------------------------\u001b[0m",
            "\u001b[0;31mNameError\u001b[0m                                 Traceback (most recent call last)",
            "\u001b[0;32m<ipython-input-15-6c0fc873955c>\u001b[0m in \u001b[0;36m<cell line: 1>\u001b[0;34m()\u001b[0m\n\u001b[0;32m----> 1\u001b[0;31m \u001b[0mar1\u001b[0m\u001b[0;34m[\u001b[0m\u001b[0;36m2\u001b[0m\u001b[0;34m:\u001b[0m\u001b[0;36m6\u001b[0m\u001b[0;34m,\u001b[0m\u001b[0;36m2_6\u001b[0m\u001b[0;34m]\u001b[0m\u001b[0;34m\u001b[0m\u001b[0;34m\u001b[0m\u001b[0m\n\u001b[0m\u001b[1;32m      2\u001b[0m \u001b[0mprint\u001b[0m\u001b[0;34m(\u001b[0m\u001b[0mar1\u001b[0m\u001b[0;34m)\u001b[0m\u001b[0;34m\u001b[0m\u001b[0;34m\u001b[0m\u001b[0m\n",
            "\u001b[0;31mNameError\u001b[0m: name 'ar1' is not defined"
          ]
        }
      ]
    },
    {
      "cell_type": "markdown",
      "metadata": {
        "id": "JOfaLsMXsAAd"
      },
      "source": [
        "10. **Funciones sobre los elementos de un array**"
      ]
    },
    {
      "cell_type": "code",
      "execution_count": null,
      "metadata": {
        "colab": {
          "base_uri": "https://localhost:8080/"
        },
        "id": "dfj8U5D-sG7r",
        "outputId": "2d46f93c-133f-4fc8-b9fb-9af85e09613c"
      },
      "outputs": [
        {
          "name": "stdout",
          "output_type": "stream",
          "text": [
            "[[0.49460165 0.2280831 ]\n",
            " [0.25547392 0.39632991]]\n"
          ]
        }
      ],
      "source": [
        "np.random.seed(50)\n",
        "ar1 = np.random.rand(2,2)\n",
        "print(ar1)"
      ]
    },
    {
      "cell_type": "code",
      "execution_count": null,
      "metadata": {
        "colab": {
          "base_uri": "https://localhost:8080/"
        },
        "id": "8hzDSFNssHxa",
        "outputId": "8d2025d0-6b9f-401c-e68d-5cf17bbec0b6"
      },
      "outputs": [
        {
          "data": {
            "text/plain": [
              "array([[1.63984487, 1.25618972],\n",
              "       [1.29107335, 1.4863596 ]])"
            ]
          },
          "execution_count": 29,
          "metadata": {
            "tags": []
          },
          "output_type": "execute_result"
        }
      ],
      "source": [
        "np.exp(ar1)"
      ]
    },
    {
      "cell_type": "code",
      "execution_count": null,
      "metadata": {
        "colab": {
          "base_uri": "https://localhost:8080/"
        },
        "id": "PF17m3Q8bfGC",
        "outputId": "aaad8249-a7e6-479b-dfd0-b4f25da8b49e"
      },
      "outputs": [
        {
          "data": {
            "text/plain": [
              "array([[0.70327921, 0.47758047],\n",
              "       [0.50544428, 0.62954738]])"
            ]
          },
          "execution_count": 30,
          "metadata": {
            "tags": []
          },
          "output_type": "execute_result"
        }
      ],
      "source": [
        "np.sqrt(ar1)"
      ]
    },
    {
      "cell_type": "code",
      "execution_count": null,
      "metadata": {
        "colab": {
          "base_uri": "https://localhost:8080/"
        },
        "id": "j0VGm0FVbmGc",
        "outputId": "e00a2adf-cdf1-4272-f768-e2fb00b7b517"
      },
      "outputs": [
        {
          "data": {
            "text/plain": [
              "array([[0.495, 0.228],\n",
              "       [0.255, 0.396]])"
            ]
          },
          "execution_count": 41,
          "metadata": {
            "tags": []
          },
          "output_type": "execute_result"
        }
      ],
      "source": [
        "np.around(ar1,3)"
      ]
    },
    {
      "cell_type": "code",
      "execution_count": null,
      "metadata": {
        "colab": {
          "base_uri": "https://localhost:8080/"
        },
        "id": "_3F6gpZIbsiy",
        "outputId": "7dda7702-c5ef-4c02-c8ee-1e42de47698c"
      },
      "outputs": [
        {
          "data": {
            "text/plain": [
              "array([[0., 0.],\n",
              "       [0., 0.]])"
            ]
          },
          "execution_count": 32,
          "metadata": {
            "tags": []
          },
          "output_type": "execute_result"
        }
      ],
      "source": [
        "np.trunc(ar1,) #El entero mas cercano a cero"
      ]
    },
    {
      "cell_type": "code",
      "execution_count": null,
      "metadata": {
        "colab": {
          "base_uri": "https://localhost:8080/"
        },
        "id": "yopXV3AGcFr1",
        "outputId": "9f281248-8070-45b6-cf6a-6f14e1a99400"
      },
      "outputs": [
        {
          "data": {
            "text/plain": [
              "array([[0., 0.],\n",
              "       [0., 0.]])"
            ]
          },
          "execution_count": 33,
          "metadata": {
            "tags": []
          },
          "output_type": "execute_result"
        }
      ],
      "source": [
        "np.floor(ar1) #Redondeo hacia el menor"
      ]
    },
    {
      "cell_type": "code",
      "execution_count": null,
      "metadata": {
        "colab": {
          "base_uri": "https://localhost:8080/"
        },
        "id": "FIjOBgFNcRWE",
        "outputId": "9da7e14d-fcc6-4e0c-b4cc-6d1b0af41c92"
      },
      "outputs": [
        {
          "data": {
            "text/plain": [
              "array([[1., 1.],\n",
              "       [1., 1.]])"
            ]
          },
          "execution_count": 34,
          "metadata": {
            "tags": []
          },
          "output_type": "execute_result"
        }
      ],
      "source": [
        "np.ceil(ar1)"
      ]
    },
    {
      "cell_type": "code",
      "execution_count": null,
      "metadata": {
        "colab": {
          "base_uri": "https://localhost:8080/"
        },
        "id": "LNTN7Wr7jEAJ",
        "outputId": "bc2ca39d-5e89-4c3e-e0aa-5e029c75e791"
      },
      "outputs": [
        {
          "data": {
            "text/plain": [
              "array([[-0.7040026 , -1.47804522],\n",
              "       [-1.36463493, -0.92550831]])"
            ]
          },
          "execution_count": 35,
          "metadata": {
            "tags": []
          },
          "output_type": "execute_result"
        }
      ],
      "source": [
        "np.log(ar1)"
      ]
    },
    {
      "cell_type": "code",
      "execution_count": null,
      "metadata": {
        "colab": {
          "base_uri": "https://localhost:8080/"
        },
        "id": "ABXvzm_GjGWW",
        "outputId": "182b7c3d-b0e7-4a56-ae03-d696124db933"
      },
      "outputs": [
        {
          "data": {
            "text/plain": [
              "array([0.75007557, 0.62441301])"
            ]
          },
          "execution_count": 43,
          "metadata": {
            "tags": []
          },
          "output_type": "execute_result"
        }
      ],
      "source": [
        "np.sum(ar1, axis=0)"
      ]
    },
    {
      "cell_type": "code",
      "execution_count": null,
      "metadata": {
        "colab": {
          "base_uri": "https://localhost:8080/"
        },
        "id": "AK1IAVktjNPr",
        "outputId": "29d54c3d-3449-483a-edc7-27c55f771efa"
      },
      "outputs": [
        {
          "data": {
            "text/plain": [
              "array([0.49460165, 0.39632991])"
            ]
          },
          "execution_count": 45,
          "metadata": {
            "tags": []
          },
          "output_type": "execute_result"
        }
      ],
      "source": [
        "np.max(ar1, axis=0) #Me da los 3 valores max en eje y cuando axis=0, y x cuando axis =1"
      ]
    },
    {
      "cell_type": "code",
      "execution_count": null,
      "metadata": {
        "colab": {
          "base_uri": "https://localhost:8080/"
        },
        "id": "Nb9kLCS9jWGs",
        "outputId": "5e3c10ae-0bc7-40e0-868c-a20c65fb6b37"
      },
      "outputs": [
        {
          "data": {
            "text/plain": [
              "array([0.25547392, 0.2280831 ])"
            ]
          },
          "execution_count": 38,
          "metadata": {
            "tags": []
          },
          "output_type": "execute_result"
        }
      ],
      "source": [
        "np.min(ar1,axis=0)"
      ]
    },
    {
      "cell_type": "code",
      "execution_count": null,
      "metadata": {
        "colab": {
          "base_uri": "https://localhost:8080/"
        },
        "id": "70080W6-jcNw",
        "outputId": "80631f68-5a13-4311-ff7f-f33ded9e5e22"
      },
      "outputs": [
        {
          "data": {
            "text/plain": [
              "array([[0.49460165, 0.2280831 ],\n",
              "       [0.75007557, 0.62441301]])"
            ]
          },
          "execution_count": 39,
          "metadata": {
            "tags": []
          },
          "output_type": "execute_result"
        }
      ],
      "source": [
        "np.cumsum(ar1, axis=0)"
      ]
    },
    {
      "cell_type": "code",
      "execution_count": null,
      "metadata": {
        "colab": {
          "base_uri": "https://localhost:8080/"
        },
        "id": "qD8N4ooYjk3B",
        "outputId": "5abd6bd2-9055-4ff8-b9f4-310188f1f85c"
      },
      "outputs": [
        {
          "data": {
            "text/plain": [
              "array([0.11956386, 0.0841234 ])"
            ]
          },
          "execution_count": 40,
          "metadata": {
            "tags": []
          },
          "output_type": "execute_result"
        }
      ],
      "source": [
        "np.std(ar1,axis=0)"
      ]
    },
    {
      "cell_type": "code",
      "execution_count": null,
      "metadata": {
        "colab": {
          "base_uri": "https://localhost:8080/"
        },
        "id": "10ceWCCGjpLW",
        "outputId": "51bf98e4-eba6-4c39-c0a7-55bec5bc3338"
      },
      "outputs": [
        {
          "data": {
            "text/plain": [
              "0.3436221458668365"
            ]
          },
          "execution_count": 41,
          "metadata": {
            "tags": []
          },
          "output_type": "execute_result"
        }
      ],
      "source": [
        "np.mean(ar1)"
      ]
    },
    {
      "cell_type": "code",
      "execution_count": null,
      "metadata": {
        "colab": {
          "base_uri": "https://localhost:8080/"
        },
        "id": "qcxM5gvbjygj",
        "outputId": "46d5a168-8495-495f-d7fd-e77c7ab50d82"
      },
      "outputs": [
        {
          "data": {
            "text/plain": [
              "0.32590191673999414"
            ]
          },
          "execution_count": 42,
          "metadata": {
            "tags": []
          },
          "output_type": "execute_result"
        }
      ],
      "source": [
        "np.median(ar1)"
      ]
    },
    {
      "cell_type": "markdown",
      "metadata": {
        "id": "jxhpB08zqzMZ"
      },
      "source": [
        "11. Funciones aritmeticas con matrices"
      ]
    },
    {
      "cell_type": "code",
      "execution_count": null,
      "metadata": {
        "colab": {
          "base_uri": "https://localhost:8080/"
        },
        "id": "Fc-f7X9Uqeg3",
        "outputId": "c8162110-5355-4b94-9149-125ae51d90f9"
      },
      "outputs": [
        {
          "name": "stdout",
          "output_type": "stream",
          "text": [
            "[[0 0 3]\n",
            " [1 4 2]\n",
            " [2 4 3]] \n",
            "\n",
            "[[6 4 1]\n",
            " [5 9 0]\n",
            " [6 3 2]]\n"
          ]
        }
      ],
      "source": [
        "np.random.seed(50)\n",
        "ar1 = np.random.randint(0,5,(3,3))\n",
        "ar2 = np.random.randint(0,10,(3,3))\n",
        "print(ar1, \"\\n\")\n",
        "print(ar2)"
      ]
    },
    {
      "cell_type": "code",
      "execution_count": null,
      "metadata": {
        "colab": {
          "base_uri": "https://localhost:8080/"
        },
        "id": "eadlvX0erdM6",
        "outputId": "f65b8300-9169-4609-c278-a790cc5eec2f"
      },
      "outputs": [
        {
          "data": {
            "text/plain": [
              "array([[ 6,  4,  4],\n",
              "       [ 6, 13,  2],\n",
              "       [ 8,  7,  5]])"
            ]
          },
          "execution_count": 44,
          "metadata": {
            "tags": []
          },
          "output_type": "execute_result"
        }
      ],
      "source": [
        "np.add(ar1, ar2)"
      ]
    },
    {
      "cell_type": "code",
      "execution_count": null,
      "metadata": {
        "colab": {
          "base_uri": "https://localhost:8080/"
        },
        "id": "_C24p_6hsn2n",
        "outputId": "6d9e22ae-b434-44ae-c65e-4022dae704d9"
      },
      "outputs": [
        {
          "data": {
            "text/plain": [
              "array([[ 6,  4,  4],\n",
              "       [ 6, 13,  2],\n",
              "       [ 8,  7,  5]])"
            ]
          },
          "execution_count": 45,
          "metadata": {
            "tags": []
          },
          "output_type": "execute_result"
        }
      ],
      "source": [
        "ar1+ar2"
      ]
    },
    {
      "cell_type": "code",
      "execution_count": null,
      "metadata": {
        "colab": {
          "base_uri": "https://localhost:8080/"
        },
        "id": "yZowmP6az2e6",
        "outputId": "282ba03c-976a-41a5-d03d-b106439433aa"
      },
      "outputs": [
        {
          "data": {
            "text/plain": [
              "array([[0, 0, 1],\n",
              "       [1, 4, 0],\n",
              "       [2, 0, 0]])"
            ]
          },
          "execution_count": 46,
          "metadata": {
            "tags": []
          },
          "output_type": "execute_result"
        }
      ],
      "source": [
        "np.remainder(ar1, ar2+1) #Calcula el residuo, el +1 es para evitar la division por 0"
      ]
    },
    {
      "cell_type": "code",
      "execution_count": null,
      "metadata": {
        "colab": {
          "base_uri": "https://localhost:8080/"
        },
        "id": "PuPsOTk70LBN",
        "outputId": "afb84945-589c-4312-fca2-526c266d0694"
      },
      "outputs": [
        {
          "data": {
            "text/plain": [
              "array([[0, 0, 1],\n",
              "       [1, 4, 0],\n",
              "       [2, 0, 0]])"
            ]
          },
          "execution_count": 47,
          "metadata": {
            "tags": []
          },
          "output_type": "execute_result"
        }
      ],
      "source": [
        "ar1 % (ar2+1)"
      ]
    },
    {
      "cell_type": "code",
      "execution_count": null,
      "metadata": {
        "colab": {
          "base_uri": "https://localhost:8080/"
        },
        "id": "UcDp9iEB0Ko0",
        "outputId": "b9a993af-7ee3-4b94-b77d-179d4c815ffd"
      },
      "outputs": [
        {
          "data": {
            "text/plain": [
              "array([[-6, -4,  2],\n",
              "       [-4, -5,  2],\n",
              "       [-4,  1,  1]])"
            ]
          },
          "execution_count": 48,
          "metadata": {
            "tags": []
          },
          "output_type": "execute_result"
        }
      ],
      "source": [
        "np.subtract(ar1, ar2)"
      ]
    },
    {
      "cell_type": "code",
      "execution_count": null,
      "metadata": {
        "colab": {
          "base_uri": "https://localhost:8080/"
        },
        "id": "G5JGiCR10VEa",
        "outputId": "29d65f64-f808-444a-f423-4b6cb5caecd6"
      },
      "outputs": [
        {
          "data": {
            "text/plain": [
              "array([[-6, -4,  2],\n",
              "       [-4, -5,  2],\n",
              "       [-4,  1,  1]])"
            ]
          },
          "execution_count": 49,
          "metadata": {
            "tags": []
          },
          "output_type": "execute_result"
        }
      ],
      "source": [
        "ar1 - ar2"
      ]
    },
    {
      "cell_type": "code",
      "execution_count": null,
      "metadata": {
        "colab": {
          "base_uri": "https://localhost:8080/"
        },
        "id": "3g9p73XD0YB5",
        "outputId": "d16ba1b4-01ff-45ac-e657-04072c173e64"
      },
      "outputs": [
        {
          "data": {
            "text/plain": [
              "array([[0.        , 0.        , 1.5       ],\n",
              "       [0.16666667, 0.4       , 2.        ],\n",
              "       [0.28571429, 1.        , 1.        ]])"
            ]
          },
          "execution_count": 50,
          "metadata": {
            "tags": []
          },
          "output_type": "execute_result"
        }
      ],
      "source": [
        "np.divide(ar1, ar2+1)"
      ]
    },
    {
      "cell_type": "code",
      "execution_count": null,
      "metadata": {
        "colab": {
          "base_uri": "https://localhost:8080/"
        },
        "id": "mcgQSWuf0bPX",
        "outputId": "13502fcf-5d7c-40ba-ad66-546a865c281d"
      },
      "outputs": [
        {
          "data": {
            "text/plain": [
              "array([[0.        , 0.        , 1.5       ],\n",
              "       [0.16666667, 0.4       , 2.        ],\n",
              "       [0.28571429, 1.        , 1.        ]])"
            ]
          },
          "execution_count": 51,
          "metadata": {
            "tags": []
          },
          "output_type": "execute_result"
        }
      ],
      "source": [
        "ar1 / (ar2+1)"
      ]
    },
    {
      "cell_type": "code",
      "execution_count": null,
      "metadata": {
        "colab": {
          "base_uri": "https://localhost:8080/"
        },
        "id": "73HzADi80gDf",
        "outputId": "f5b5d8d2-02df-4fb2-c927-48716a3d51b6"
      },
      "outputs": [
        {
          "data": {
            "text/plain": [
              "array([[     0,      0,      3],\n",
              "       [     1, 262144,      1],\n",
              "       [    64,     64,      9]])"
            ]
          },
          "execution_count": 52,
          "metadata": {
            "tags": []
          },
          "output_type": "execute_result"
        }
      ],
      "source": [
        "np.power(ar1, ar2)"
      ]
    },
    {
      "cell_type": "code",
      "execution_count": null,
      "metadata": {
        "colab": {
          "base_uri": "https://localhost:8080/"
        },
        "id": "eL7ePUHI0oOp",
        "outputId": "fc4c5641-1ff6-478d-e91f-fb24fb248543"
      },
      "outputs": [
        {
          "data": {
            "text/plain": [
              "array([[     0,      0,      3],\n",
              "       [     1, 262144,      1],\n",
              "       [    64,     64,      9]])"
            ]
          },
          "execution_count": 53,
          "metadata": {
            "tags": []
          },
          "output_type": "execute_result"
        }
      ],
      "source": [
        "ar1**ar2"
      ]
    },
    {
      "cell_type": "code",
      "execution_count": null,
      "metadata": {
        "id": "Dpp_XXtpebTn"
      },
      "outputs": [],
      "source": []
    },
    {
      "cell_type": "markdown",
      "metadata": {
        "id": "ZWeT_Dl8sOpO"
      },
      "source": [
        "# **3. Matplotlib**\n",
        "1. Importando pyplot de matplotlib"
      ]
    },
    {
      "cell_type": "code",
      "execution_count": null,
      "metadata": {
        "id": "ZpGbRRkxsT5t"
      },
      "outputs": [],
      "source": [
        "import matplotlib.pyplot as plt"
      ]
    },
    {
      "cell_type": "markdown",
      "metadata": {
        "id": "KtwROM4RtQzk"
      },
      "source": [
        "2. Una gráfica sencilla"
      ]
    },
    {
      "cell_type": "code",
      "execution_count": null,
      "metadata": {
        "colab": {
          "base_uri": "https://localhost:8080/",
          "height": 265
        },
        "id": "Qk9ItwPMtTz1",
        "outputId": "68e1835e-fa1e-4967-91aa-2e0bf42a2298"
      },
      "outputs": [
        {
          "data": {
            "image/png": "[encoded data removed]",
            "text/plain": [
              "<Figure size 432x288 with 1 Axes>"
            ]
          },
          "metadata": {
            "needs_background": "light",
            "tags": []
          },
          "output_type": "display_data"
        }
      ],
      "source": [
        "x = np.array([1,2,3,4,5])\n",
        "y = np.array([45, 89, 23,32,77])\n",
        "\n",
        "plt.plot(x,y)\n",
        "plt.show() #colcoarlo de forma local en vscode para poder verlo"
      ]
    },
    {
      "cell_type": "markdown",
      "metadata": {
        "id": "jpx6-_UCtVj6"
      },
      "source": [
        "3. Mejorando la visualización de la gráfica."
      ]
    },
    {
      "cell_type": "code",
      "execution_count": null,
      "metadata": {
        "colab": {
          "base_uri": "https://localhost:8080/",
          "height": 472
        },
        "id": "2vQiW67btcxy",
        "outputId": "6f135d89-8c4e-4165-8735-4020c06fbcb0"
      },
      "outputs": [
        {
          "output_type": "display_data",
          "data": {
            "text/plain": [
              "<Figure size 640x480 with 1 Axes>"
            ],
            "image/png": "[encoded data removed]"
          },
          "metadata": {}
        }
      ],
      "source": [
        "x = np.array([1,2,3,4,5])\n",
        "y = np.array([45, 89, 23,32,77])\n",
        "\n",
        "plt.plot(x,y, color=\"red\", linewidth=3, label=\"Grafica 1\") #en el color solo puede ir \"r\" *-r\n",
        "plt.title(\"Grafica temperatura vs minutos\")\n",
        "plt.xlabel(\"minutos\")\n",
        "plt.ylabel(\"temperatura\")\n",
        "plt.grid(True)\n",
        "\n",
        "\n",
        "# #Se puede graficar sobre la misma grafica una segunda curva\n",
        "x1 = np.array([1,2,3,4,5])\n",
        "y1 = np.array([0, 100, 15,32,79])\n",
        "\n",
        "plt.plot(x1,y1, color=\"blue\", linewidth=4, label=\"Grafica 2\")\n",
        "plt.legend()#activar la leyenda\n",
        "plt.axis([2,5,10,40]) #seccion en especifico\n",
        "plt.show()"
      ]
    },
    {
      "cell_type": "markdown",
      "metadata": {
        "id": "nvwiU5ZTtek5"
      },
      "source": [
        "4. Escalando los ejes"
      ]
    },
    {
      "cell_type": "code",
      "execution_count": null,
      "metadata": {
        "colab": {
          "base_uri": "https://localhost:8080/",
          "height": 295
        },
        "id": "x1u8ZyNGt4Yp",
        "outputId": "4592f966-daf8-4293-d496-340cdea81ae8"
      },
      "outputs": [
        {
          "data": {
            "image/png": "[encoded data removed]",
            "text/plain": [
              "<Figure size 432x288 with 1 Axes>"
            ]
          },
          "metadata": {
            "needs_background": "light",
            "tags": []
          },
          "output_type": "display_data"
        }
      ],
      "source": [
        "x = np.array([1,2,3,4,5])\n",
        "y = np.array([45, 89, 23,32,77])\n",
        "\n",
        "plt.plot(x,y, color=\"red\", linewidth=3, label=\"Grafica 1\")\n",
        "plt.title(\"Grafica %matplotlib\")\n",
        "plt.xlabel(\"eje x\")\n",
        "plt.ylabel(\"eje y\")\n",
        "plt.grid(True)\n",
        "plt.axis([1.5,2.5,60,100]) #Elegimos que parte de la gráfica se mostrará [xmin,xmax,ymin,ymax]\n",
        "plt.legend()\n",
        "plt.show()"
      ]
    },
    {
      "cell_type": "markdown",
      "metadata": {
        "id": "jGIQOUjmt-Ck"
      },
      "source": [
        "5. Configurando el color y el tipo de marcador"
      ]
    },
    {
      "cell_type": "code",
      "execution_count": null,
      "metadata": {
        "colab": {
          "base_uri": "https://localhost:8080/",
          "height": 295
        },
        "id": "hpRu194vuETY",
        "outputId": "0a8be274-4b00-4a04-b981-f3753ec455eb"
      },
      "outputs": [
        {
          "data": {
            "image/png": "[encoded data removed]",
            "text/plain": [
              "<Figure size 432x288 with 1 Axes>"
            ]
          },
          "metadata": {
            "needs_background": "light",
            "tags": []
          },
          "output_type": "display_data"
        }
      ],
      "source": [
        "x = np.array([1,2,3,4,5])\n",
        "y = np.array([45, 89, 23,32,77])\n",
        "\n",
        "plt.plot(x,y,\"ro\", label=\"Grafica 1\")\n",
        "plt.title(\"Grafica %matplotlib\")\n",
        "plt.xlabel(\"eje x\")\n",
        "plt.ylabel(\"eje y\")\n",
        "plt.grid(True)\n",
        "\n",
        "x1 = np.array([1,2,3,4,5])\n",
        "y1 = np.array([0, 100, 15,32,79])\n",
        "\n",
        "plt.plot(x1,y1, \"k^\", label=\"Grafica 2\")\n",
        "plt.legend()\n",
        "plt.show()"
      ]
    },
    {
      "cell_type": "markdown",
      "metadata": {
        "id": "B8UiPKrluKgV"
      },
      "source": [
        "6. Varias curvas en una sola gráfica"
      ]
    },
    {
      "cell_type": "code",
      "execution_count": null,
      "metadata": {
        "colab": {
          "base_uri": "https://localhost:8080/",
          "height": 265
        },
        "id": "ZqOzaA7TuNd3",
        "outputId": "9b1d6989-f36e-4e68-fc66-384746219f18"
      },
      "outputs": [
        {
          "data": {
            "image/png": "[encoded data removed]",
            "text/plain": [
              "<Figure size 432x288 with 1 Axes>"
            ]
          },
          "metadata": {
            "needs_background": "light",
            "tags": []
          },
          "output_type": "display_data"
        }
      ],
      "source": [
        "t = np.arange(0., 5., 0.2)\n",
        "plt.plot(t, t, 'r--', t, t**2, 'bs', t, t**3, 'g^')\n",
        "plt.show()"
      ]
    },
    {
      "cell_type": "markdown",
      "metadata": {
        "id": "GHlzJ6IWuS2p"
      },
      "source": [
        "7. Subgraficas"
      ]
    },
    {
      "cell_type": "code",
      "execution_count": null,
      "metadata": {
        "colab": {
          "base_uri": "https://localhost:8080/",
          "height": 658
        },
        "id": "o6W_mxAHuWGj",
        "outputId": "b6dbc445-8cdd-46e1-cf69-9cbe513ab922"
      },
      "outputs": [
        {
          "output_type": "display_data",
          "data": {
            "text/plain": [
              "<Figure size 1800x800 with 6 Axes>"
            ],
            "image/png": "[encoded data removed]"
          },
          "metadata": {}
        }
      ],
      "source": [
        "fig = plt.subplots(2,3,figsize=(18,8))\n",
        "#cuantas graficas, primero filas, luego columnas\n",
        "#figsize: tamaño y ancho\n",
        "\n",
        "#Para colocar la grafica en una adecuada posicion\n",
        "plt.subplot(231)\n",
        "plt.plot(x,y)\n",
        "plt.subplot(232)\n",
        "plt.plot(x,y**2)\n",
        "plt.subplot(233)\n",
        "plt.plot(x,y**3)\n",
        "plt.subplot(234)\n",
        "plt.plot(x,y)\n",
        "plt.show()"
      ]
    }
  ],
  "metadata": {
    "colab": {
      "provenance": []
    },
    "kernelspec": {
      "display_name": "Python 3",
      "language": "python",
      "name": "python3"
    },
    "language_info": {
      "codemirror_mode": {
        "name": "ipython",
        "version": 3
      },
      "file_extension": ".py",
      "mimetype": "text/x-python",
      "name": "python",
      "nbconvert_exporter": "python",
      "pygments_lexer": "ipython3",
      "version": "3.6.6"
    },
    "varInspector": {
      "cols": {
        "lenName": 16,
        "lenType": 16,
        "lenVar": 40
      },
      "kernels_config": {
        "python": {
          "delete_cmd_postfix": "",
          "delete_cmd_prefix": "del ",
          "library": "var_list.py",
          "varRefreshCmd": "print(var_dic_list())"
        },
        "r": {
          "delete_cmd_postfix": ") ",
          "delete_cmd_prefix": "rm(",
          "library": "var_list.r",
          "varRefreshCmd": "cat(var_dic_list()) "
        }
      },
      "types_to_exclude": [
        "module",
        "function",
        "builtin_function_or_method",
        "instance",
        "_Feature"
      ],
      "window_display": false
    }
  },
  "nbformat": 4,
  "nbformat_minor": 0
}